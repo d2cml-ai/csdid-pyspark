{
 "cells": [
  {
   "cell_type": "code",
   "execution_count": 1,
   "metadata": {},
   "outputs": [],
   "source": [
    "import findspark\n",
    "import warnings\n",
    "findspark.init()\n",
    "\n",
    "from pyspark.sql import  SparkSession, Row\n",
    "from pyspark.sql.functions import \\\n",
    "\tlit, col, when, expr, countDistinct,\\\n",
    "\tmonotonically_increasing_id, desc\n",
    "spark = SparkSession.builder.appName('test_preprocesdid')\\\n",
    "    .config('spark.master', 'local[4]')\\\n",
    "    .config('spark.executor.memory', '1g')\\\n",
    "    .config(\"spark.sql.shuffle.partitions\", 1)\\\n",
    "    .config('spark.driver.memory','1g')\\\n",
    "    .getOrCreate()\n",
    "\n",
    "from csdid.ATTgt import ATTgt"
   ]
  },
  {
   "cell_type": "code",
   "execution_count": 2,
   "metadata": {},
   "outputs": [
    {
     "name": "stdout",
     "output_type": "stream",
     "text": [
      "CPU times: total: 31.2 ms\n",
      "Wall time: 9.64 s\n"
     ]
    }
   ],
   "source": [
    "%%time\n",
    "import os\n",
    "name = r'D:\\Workflow\\work\\csdid_r\\R\\5g10t.csv'\n",
    "# os.path.exists(name)\n",
    "\n",
    "yname, gname, idname, tname = 'Y', 'G', 'id', 'period'\n",
    "control_group = ['nevertreated', 'notyettreated']\n",
    "anticipation = 0\n",
    "panel = True\n",
    "allow_unbalanced_panel = True\n",
    "weights_name = None\n",
    "\n",
    "clustervar = None\n",
    "xfmla = None\n",
    "\n",
    "data = spark.read.csv(name, header=True, inferSchema=True)\n",
    "# data.show(5)\n",
    "a = ATTgt(data=data, tname=tname, gname=gname, yname=yname, idname=idname)"
   ]
  },
  {
   "cell_type": "code",
   "execution_count": 9,
   "metadata": {},
   "outputs": [
    {
     "name": "stdout",
     "output_type": "stream",
     "text": [
      "[ 1  2  3  4  5  6  7  8  9 10] [2 3 4 5 6]\n"
     ]
    }
   ],
   "source": [
    "import numpy as np\n",
    "base_period='varying'\n",
    "yname = a.yname\n",
    "tname = a.tname\n",
    "idname = a.idname\n",
    "gname = a.gname\n",
    "xfmla = a.xfmla\n",
    "data = a.new_data\n",
    "weights_name = a.weights_name\n",
    "panel = a.panel\n",
    "control_group= a.control_group\n",
    "anticipation = a.anticipation\n",
    "\n",
    "n = a.n\n",
    "nT = a.nT\n",
    "nG = a.nG\n",
    "\n",
    "tlist = a.tlist.collect()\n",
    "glist = a.glist.collect()\n",
    "\n",
    "tlist = [x[tname] for x in tlist]\n",
    "glist = [x[gname] for x in glist]\n",
    "tlist, glist = map(np.array, [tlist, glist])\n",
    "print(tlist, glist)\n",
    "\n",
    "tlist_len, tfac = len(tlist), 0\n",
    "\n",
    "if base_period != 'universal':\n",
    "\ttlist_len = tlist_len - 1\n",
    "\ttfac = 1\n",
    "\n",
    "never_treated = control_group == 'nevertreated'\n",
    "if never_treated:\n",
    "\tdata = data.withColumn('C', when(col(gname) == 0, 1).otherwise(0))\n",
    "\n",
    "data = data.withColumn('y_main', col(yname))\n"
   ]
  },
  {
   "cell_type": "code",
   "execution_count": 11,
   "metadata": {},
   "outputs": [
    {
     "name": "stdout",
     "output_type": "stream",
     "text": [
      "2\n",
      "3\n",
      "4\n",
      "5\n",
      "6\n"
     ]
    }
   ],
   "source": [
    "for _, g in enumerate(glist):\n",
    "\tprint(g)\n",
    "g = glist[0]\n",
    "t_i = 0"
   ]
  },
  {
   "cell_type": "code",
   "execution_count": 23,
   "metadata": {},
   "outputs": [
    {
     "data": {
      "text/plain": [
       "(2, 2)"
      ]
     },
     "execution_count": 23,
     "metadata": {},
     "output_type": "execute_result"
    }
   ],
   "source": [
    "g, tlist[t_i + tfac]\n",
    "# tlist[]\n"
   ]
  },
  {
   "cell_type": "code",
   "execution_count": 25,
   "metadata": {},
   "outputs": [],
   "source": [
    "# for _, g in enumerate(glist):\n",
    "data = data.withColumn(\n",
    "'G_m', when(\n",
    "\tcol(gname) == g, 1\n",
    ").otherwise(0)\n",
    ")\n",
    "\t# for t_i in range(tlist_len):\n",
    "pret = t_i\n",
    "tn = tlist[t_i + tfac]\n",
    "\n",
    "if base_period == 'universal' or g < tn:\n",
    "\ttry:\n",
    "\t\tpret = np.where(tlist + anticipation < g)[0][-1]\n",
    "\texcept:\n",
    "\t\traise f\"There are no pre-treatment periods for the group first treated at {g}\\nUnits from this group are dropped\"\n",
    "\n",
    "if base_period == 'universal':\n",
    "\tif pret == tn:\n",
    "\t\tadd_att_data()\n",
    "\t\n",
    "if not never_treated:\n",
    "\t# base\n",
    "\t# n1 = data[gname] == 0\n",
    "\t# n2 = (data[gname] > (tlist[np.max([t_i, pret]) + tfac]) + anticipation)\n",
    "\t# n3 = np.where(data[gname] != glist[g], True, False)\n",
    "\t# row_eval = n1 | n2 & n3\n",
    "\n",
    "\tdata = data.withColumn('n1', col(gname) == 0)\n",
    "\tvalue_n2 = (tlist[np.max([t_i, pret]) + tfac]) + anticipation\n",
    "\tdata = data.withColumn(\n",
    "\t'n2', col(gname) > value_n2\n",
    "\t).withColumn(\n",
    "\t'n3', col(gname) != glist[g]\n",
    "\t)\n",
    "\tdata = data.withColumn(\n",
    "\t'row_eval', (col('n1') | col('n2') & col('n3'))\n",
    "\t).withColumn('C', col('row_eval'))"
   ]
  },
  {
   "cell_type": "code",
   "execution_count": 6,
   "metadata": {},
   "outputs": [
    {
     "data": {
      "text/plain": [
       "array([ True,  True,  True,  True,  True,  True,  True,  True,  True,\n",
       "        True,  True,  True])"
      ]
     },
     "execution_count": 6,
     "metadata": {},
     "output_type": "execute_result"
    },
    {
     "ename": "",
     "evalue": "",
     "output_type": "error",
     "traceback": [
      "\u001b[1;31mThe Kernel crashed while executing code in the the current cell or a previous cell. Please review the code in the cell(s) to identify a possible cause of the failure. Click <a href='https://aka.ms/vscodeJupyterKernelCrash'>here</a> for more info. View Jupyter <a href='command:jupyter.viewOutput'>log</a> for further details."
     ]
    }
   ],
   "source": [
    "import numpy as np\n",
    "a = np.ones((12, 1))\n",
    "a[:, 0] == np.ones(12)"
   ]
  }
 ],
 "metadata": {
  "kernelspec": {
   "display_name": "csdid_r-1-mgsrfE",
   "language": "python",
   "name": "python3"
  },
  "language_info": {
   "codemirror_mode": {
    "name": "ipython",
    "version": 3
   },
   "file_extension": ".py",
   "mimetype": "text/x-python",
   "name": "python",
   "nbconvert_exporter": "python",
   "pygments_lexer": "ipython3",
   "version": "3.8.10"
  },
  "orig_nbformat": 4
 },
 "nbformat": 4,
 "nbformat_minor": 2
}
