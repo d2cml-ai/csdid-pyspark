{
 "cells": [
  {
   "cell_type": "code",
   "execution_count": 20,
   "metadata": {},
   "outputs": [
    {
     "ename": "ImportError",
     "evalue": "cannot import name 'splot' from 'csdid.plots' (d:\\Workflow\\work\\csdid_r\\csdid\\plots.py)",
     "output_type": "error",
     "traceback": [
      "\u001b[1;31m---------------------------------------------------------------------------\u001b[0m",
      "\u001b[1;31mImportError\u001b[0m                               Traceback (most recent call last)",
      "Cell \u001b[1;32mIn[20], line 2\u001b[0m\n\u001b[0;32m      1\u001b[0m \u001b[39mfrom\u001b[39;00m \u001b[39mcsdid\u001b[39;00m\u001b[39m.\u001b[39;00m\u001b[39mATTgt\u001b[39;00m \u001b[39mimport\u001b[39;00m ATTgt\n\u001b[1;32m----> 2\u001b[0m \u001b[39mfrom\u001b[39;00m \u001b[39mcsdid\u001b[39;00m\u001b[39m.\u001b[39;00m\u001b[39mplots\u001b[39;00m \u001b[39mimport\u001b[39;00m splot\n",
      "\u001b[1;31mImportError\u001b[0m: cannot import name 'splot' from 'csdid.plots' (d:\\Workflow\\work\\csdid_r\\csdid\\plots.py)"
     ]
    }
   ],
   "source": [
    "from csdid.ATTgt import ATTgt\n",
    "from csdid.plots import splot"
   ]
  },
  {
   "cell_type": "code",
   "execution_count": 2,
   "metadata": {},
   "outputs": [],
   "source": [
    "import findspark\n",
    "import warnings\n",
    "findspark.init()\n",
    "import numpy as np\n",
    "\n",
    "from pyspark.sql import  SparkSession, Row\n",
    "from pyspark.sql.functions import \\\n",
    "\tlit, col, when, expr, countDistinct,\\\n",
    "\tmonotonically_increasing_id, desc\n",
    "spark = SparkSession.builder.appName('test_preprocesdid')\\\n",
    "    .config('spark.master', 'local[4]')\\\n",
    "    .config('spark.executor.memory', '2g')\\\n",
    "    .config(\"spark.sql.shuffle.partitions\", 10)\\\n",
    "    .config('spark.driver.memory','1g')\\\n",
    "    .getOrCreate()"
   ]
  },
  {
   "cell_type": "code",
   "execution_count": 3,
   "metadata": {},
   "outputs": [
    {
     "name": "stderr",
     "output_type": "stream",
     "text": [
      "100%|██████████| 4/4 [00:03<00:00,  1.16it/s]\n",
      "100%|██████████| 4/4 [00:03<00:00,  1.26it/s]\n",
      "100%|██████████| 4/4 [00:03<00:00,  1.29it/s]\n",
      "100%|██████████| 3/3 [00:09<00:00,  3.25s/it]"
     ]
    },
    {
     "name": "stdout",
     "output_type": "stream",
     "text": [
      "CPU times: total: 406 ms\n",
      "Wall time: 15.8 s\n"
     ]
    },
    {
     "name": "stderr",
     "output_type": "stream",
     "text": [
      "\n"
     ]
    }
   ],
   "source": [
    "%%time\n",
    "import os\n",
    "\n",
    "# name = 'https://raw.githubusercontent.com/d2cml-ai/csdid/function-aggte/data/mpdta.csv'\n",
    "name = r'D:\\Workflow\\work\\csdid_r\\R\\5g10t.csv'\n",
    "name = r'D:\\Workflow\\work\\csdid_r\\R\\data\\mpdta.csv'\n",
    "# os.path.exists(name)\n",
    "\n",
    "yname, gname, idname, tname = 'Y', 'G', 'id', 'period'\n",
    "yname, gname, idname, tname = 'lemp', 'first_treat', 'countyreal', 'year'\n",
    "# yname, gname, idname, tname = 'lemp', 'first.treat', 'countyreal', 'year'\n",
    "control_group = ['nevertreated', 'notyettreated']\n",
    "anticipation = 0\n",
    "panel = True\n",
    "allow_unbalanced_panel = True\n",
    "weights_name = None\n",
    "\n",
    "clustervar = None\n",
    "xfmla = None\n",
    "\n",
    "data = spark.read.csv(name, header=True, inferSchema=True)\n",
    "# data.show(5)\n",
    "a = ATTgt(data=data, tname=tname, gname=gname, yname=yname, idname=idname)\n",
    "a.fit(bstrap=True)"
   ]
  },
  {
   "cell_type": "code",
   "execution_count": 4,
   "metadata": {},
   "outputs": [],
   "source": [
    "# a.sum_gt().summary2_gt"
   ]
  },
  {
   "cell_type": "code",
   "execution_count": 5,
   "metadata": {},
   "outputs": [
    {
     "name": "stdout",
     "output_type": "stream",
     "text": [
      "\n",
      "\n",
      "   ATT Std. Error  [95.0%  Conf. Int.] \n",
      "0.0418     0.0526 -0.0613       0.1449 \n",
      "\n",
      "\n",
      "---\n",
      "Signif. codes: `*' confidence band does not cover 0\n",
      "Control Group:  None , \n",
      "Anticipation Periods:  0\n",
      "Estimation Method:  Doubly Robust\n",
      "\n",
      "\n",
      "\n",
      "\n",
      "Overall summary of ATT's based on group/cohort aggregation:\n",
      "   ATT Std. Error  [95.0%  Conf. Int.] \n",
      "0.0678       0.06 -0.0498       0.1853 \n",
      "\n",
      "\n",
      "Group Effects:\n",
      "   Group  Estimate  Std. Error  [95.0% Simult.   Conf. Band  \n",
      "0   2004   -0.0337      0.0598          -0.1509      0.0835  \n",
      "1   2006    0.0309      0.0576          -0.0821      0.1438  \n",
      "2   2007    0.0945      0.0717          -0.0461      0.2351  \n",
      "---\n",
      "Signif. codes: `*' confidence band does not cover 0\n",
      "Control Group:  None , \n",
      "Anticipation Periods:  0\n",
      "Estimation Method:  Doubly Robust\n",
      "\n",
      "\n",
      "\n",
      "\n",
      "Overall summary of ATT's based on calendar time aggregation:\n",
      "    ATT Std. Error  [95.0%  Conf. Int.] \n",
      "-0.0072     0.0409 -0.0873        0.073 \n",
      "\n",
      "\n",
      "Time Effects (calendar):\n",
      "   Time  Estimate  Std. Error  [95.0% Simult.   Conf. Band  \n",
      "0  2004   -0.0194      0.0462          -0.1100      0.0712  \n",
      "1  2005   -0.0783      0.0590          -0.1939      0.0373  \n",
      "2  2006   -0.0070      0.0484          -0.1019      0.0878  \n",
      "3  2007    0.0761      0.0731          -0.0672      0.2194  \n",
      "---\n",
      "Signif. codes: `*' confidence band does not cover 0\n",
      "Control Group:  None , \n",
      "Anticipation Periods:  0\n",
      "Estimation Method:  Doubly Robust\n",
      "\n",
      "\n"
     ]
    }
   ],
   "source": [
    "a.compute_aggte(na_rm=False, typec='simple')\n",
    "a.compute_aggte(na_rm=False, typec='group')\n",
    "a.compute_aggte(na_rm=False, typec='calendar')"
   ]
  },
  {
   "cell_type": "code",
   "execution_count": 22,
   "metadata": {},
   "outputs": [
    {
     "data": {
      "text/html": [
       "<div>\n",
       "<style scoped>\n",
       "    .dataframe tbody tr th:only-of-type {\n",
       "        vertical-align: middle;\n",
       "    }\n",
       "\n",
       "    .dataframe tbody tr th {\n",
       "        vertical-align: top;\n",
       "    }\n",
       "\n",
       "    .dataframe thead th {\n",
       "        text-align: right;\n",
       "    }\n",
       "</style>\n",
       "<table border=\"1\" class=\"dataframe\">\n",
       "  <thead>\n",
       "    <tr style=\"text-align: right;\">\n",
       "      <th></th>\n",
       "      <th>year</th>\n",
       "      <th>att</th>\n",
       "      <th>att_se</th>\n",
       "      <th>post</th>\n",
       "      <th>c</th>\n",
       "    </tr>\n",
       "  </thead>\n",
       "  <tbody>\n",
       "    <tr>\n",
       "      <th>0</th>\n",
       "      <td>2004</td>\n",
       "      <td>-0.033709</td>\n",
       "      <td>0.059813</td>\n",
       "      <td>1</td>\n",
       "      <td>1.959964</td>\n",
       "    </tr>\n",
       "    <tr>\n",
       "      <th>1</th>\n",
       "      <td>2006</td>\n",
       "      <td>0.030852</td>\n",
       "      <td>0.057614</td>\n",
       "      <td>1</td>\n",
       "      <td>1.959964</td>\n",
       "    </tr>\n",
       "    <tr>\n",
       "      <th>2</th>\n",
       "      <td>2007</td>\n",
       "      <td>0.094536</td>\n",
       "      <td>0.071742</td>\n",
       "      <td>1</td>\n",
       "      <td>1.959964</td>\n",
       "    </tr>\n",
       "  </tbody>\n",
       "</table>\n",
       "</div>"
      ],
      "text/plain": [
       "   year       att    att_se  post         c\n",
       "0  2004 -0.033709  0.059813     1  1.959964\n",
       "1  2006  0.030852  0.057614     1  1.959964\n",
       "2  2007  0.094536  0.071742     1  1.959964"
      ]
     },
     "execution_count": 22,
     "metadata": {},
     "output_type": "execute_result"
    }
   ],
   "source": [
    "# a.DIDparams['group']\n",
    "import pandas as pd, matplotlib.pyplot as plt\n",
    "# from csdid.plots import splot\n",
    "a.plot_attgt();\n",
    "a.plot_aggte()"
   ]
  },
  {
   "cell_type": "code",
   "execution_count": 24,
   "metadata": {},
   "outputs": [
    {
     "data": {
      "text/plain": [
       "<Axes: title={'center': 'Group'}, xlabel='Group', ylabel='ATT'>"
      ]
     },
     "execution_count": 24,
     "metadata": {},
     "output_type": "execute_result"
    },
    {
     "data": {
      "image/png": "[encoded data removed]",
      "text/plain": [
       "<Figure size 1000x500 with 1 Axes>"
      ]
     },
     "metadata": {},
     "output_type": "display_data"
    }
   ],
   "source": [
    "def splot(ssresults, ax, ylim=None, xlab=None, ylab=None, title=\"Group\",\n",
    "          legend=True, ref_line=0, theming=True):\n",
    "    \n",
    "    if xlab is None:\n",
    "        xlab = 'Group'\n",
    "    if ylab is None:\n",
    "        ylab = 'ATT'\n",
    "\n",
    "    ssresults['year'] = ssresults['year'].copy().astype(str)\n",
    "    \n",
    "    pre_points = ssresults.loc[ssresults['post'] == 0]\n",
    "    post_points = ssresults.loc[ssresults['post'] == 1]\n",
    "    \n",
    "    ax.errorbar(pre_points['year'], pre_points['att'], yerr=pre_points['c']*pre_points['att_se'],\n",
    "                 fmt='o', markersize=5, color='#e87d72', ecolor='#e87d72', capsize=5, label='Pre')   \n",
    "    \n",
    "    ax.errorbar(post_points['year'], post_points['att'], yerr=post_points['c']*post_points['att_se'],\n",
    "                 fmt='o', markersize=5, color='#56bcc2', ecolor='#56bcc2', capsize=5, label='Post') \n",
    "    \n",
    "    ax.set_xlabel(xlab)\n",
    "    ax.set_ylabel(ylab)\n",
    "    ax.set_title(title)\n",
    "\n",
    "    handles, labels = ax.get_legend_handles_labels()    \n",
    "    \n",
    "    if ylim is not None:\n",
    "        ax.set_ylim(ylim)\n",
    "    \n",
    "    if ref_line is not None:\n",
    "        ax.axhline(ref_line, linestyle='dashed', color='#1F1F1F')\n",
    "    \n",
    "    if theming:\n",
    "        ax.set_facecolor('white')\n",
    "        ax.set_title(title, color=\"#1F1F1F\", fontweight=\"bold\", fontsize=12)\n",
    "        ax.spines['bottom'].set_color('#1F1F1F')\n",
    "        ax.spines['left'].set_color('#1F1F1F')\n",
    "        ax.tick_params(axis='x', colors='#1F1F1F')\n",
    "        ax.tick_params(axis='y', colors='#1F1F1F')\n",
    "        if not pre_points.empty and not post_points.empty:\n",
    "            ax.legend(handles[0:2], labels[0:2], loc='lower center',fontsize='small', ncol=2, bbox_to_anchor=(0.5,-0.27))\n",
    "        elif not pre_points.empty:\n",
    "            ax.legend(handles[:1], labels[:1], loc='lower center',fontsize='small', ncol=2, bbox_to_anchor=(0.5,-0.27))\n",
    "        elif not post_points.empty:\n",
    "            ax.legend(handles[1:2], labels[1:2], loc='lower center',fontsize='small', ncol=2, bbox_to_anchor=(0.5,-0.27))   \n",
    "            \n",
    "    if not legend:\n",
    "        ax.legend().set_visible(False)\n",
    "    \n",
    "    return ax\n",
    "fig, ax = plt.subplots(figsize=(10, 5))\n",
    "splot(results, ax)"
   ]
  }
 ],
 "metadata": {
  "kernelspec": {
   "display_name": "csdid_r-1-mgsrfE",
   "language": "python",
   "name": "python3"
  },
  "language_info": {
   "codemirror_mode": {
    "name": "ipython",
    "version": 3
   },
   "file_extension": ".py",
   "mimetype": "text/x-python",
   "name": "python",
   "nbconvert_exporter": "python",
   "pygments_lexer": "ipython3",
   "version": "3.8.10"
  },
  "orig_nbformat": 4
 },
 "nbformat": 4,
 "nbformat_minor": 2
}
