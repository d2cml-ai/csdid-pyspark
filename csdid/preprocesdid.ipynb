{
 "cells": [
  {
   "cell_type": "code",
   "execution_count": 1,
   "metadata": {},
   "outputs": [],
   "source": [
    "import findspark\n",
    "import warnings\n",
    "findspark.init()\n",
    "\n",
    "from pyspark.sql import  SparkSession, Row\n",
    "from pyspark.sql.functions import \\\n",
    "\tlit, col, when, expr, countDistinct,\\\n",
    "\tmonotonically_increasing_id, desc"
   ]
  },
  {
   "cell_type": "code",
   "execution_count": 2,
   "metadata": {},
   "outputs": [],
   "source": [
    "spark = SparkSession.builder.appName('preprocesdid')\\\n",
    "    .config('spark.master', 'local[4]')\\\n",
    "    .config('spark.executor.memory', '1g')\\\n",
    "    .config(\"spark.sql.shuffle.partitions\", 1)\\\n",
    "    .config('spark.driver.memory','1g')\\\n",
    "    .getOrCreate()\n",
    "# configuration \n",
    "# https://spark.apache.org/docs/latest/configuration.html"
   ]
  },
  {
   "cell_type": "code",
   "execution_count": 3,
   "metadata": {},
   "outputs": [
    {
     "name": "stdout",
     "output_type": "stream",
     "text": [
      "+---+-----------------+---+-------+------+----------------+-----+\n",
      "|  G|                X| id|cluster|period|               Y|treat|\n",
      "+---+-----------------+---+-------+------+----------------+-----+\n",
      "|  2|0.214945979570717|  1|     37|     1|4.39776569093816|    1|\n",
      "|  2|0.214945979570717|  1|     37|     2|7.66172212986391|    1|\n",
      "|  2|0.214945979570717|  1|     37|     3|6.83282829318896|    1|\n",
      "|  2|0.214945979570717|  1|     37|     4|7.07668186230603|    1|\n",
      "|  2|0.214945979570717|  1|     37|     5|8.99244332186859|    1|\n",
      "+---+-----------------+---+-------+------+----------------+-----+\n",
      "only showing top 5 rows\n",
      "\n"
     ]
    }
   ],
   "source": [
    "import os\n",
    "name = r'D:\\Workflow\\work\\csdid_r\\R\\5g10t.csv'\n",
    "# os.path.exists(name)\n",
    "data = spark.read.csv(name, header=True, inferSchema=True)\n",
    "data.show(5)"
   ]
  },
  {
   "cell_type": "code",
   "execution_count": 4,
   "metadata": {},
   "outputs": [],
   "source": [
    "yname, gname, idname, tname = 'Y', 'G', 'id', 'period'\n",
    "control_group = ['nevertreated', 'notyettreated']\n",
    "anticipation = 0\n",
    "panel = True\n",
    "allow_unbalanced_panel = True\n",
    "weights_name = None\n",
    "\n",
    "clustervar = None\n",
    "xfmla = None"
   ]
  },
  {
   "cell_type": "code",
   "execution_count": 5,
   "metadata": {},
   "outputs": [],
   "source": [
    "# functions utils\n",
    "def form_to_strings(fmla : str = 'y ~ x + 1'):\n",
    "\ty, x = fmla.split('~')\n",
    "\tx_var = x.strip().split('+')\n",
    "\tx_var = [x.strip() for x in x_var]\n",
    "\tx_var = ['_intercept' if x == '1' else x for x in x_var]\n",
    "\treturn x_var\n",
    "def tlist_glist(data, tname, gname, _filter = False):\n",
    "\ttlist = data.select(tname).distinct().orderBy(col(tname))\n",
    "\tglist = data.select(gname).distinct().orderBy(col(gname))\n",
    "\tif _filter:\n",
    "\t\tvalue_expr = expr(f'max({gname})')\n",
    "\t\tvalue = data.select(value_expr.alias('value')).first()['value']\n",
    "\t\tglist = glist.filter(glist[gname] < value)\n",
    "\treturn tlist, glist"
   ]
  },
  {
   "cell_type": "code",
   "execution_count": 6,
   "metadata": {},
   "outputs": [],
   "source": [
    "n_pre = data.count()\n",
    "control_group = control_group[0]\n",
    "columns = [idname, tname, yname, gname]\n",
    "\n",
    "if clustervar is not None:\n",
    "\tcolumns += [clustervar]\n",
    "if weights_name is not None:\n",
    "\tcolumns += [weights_name]\n",
    "\tdata = data.withColumn('_w', data[weights_name])\n",
    "else:\n",
    "\tcolumns += ['_w']\n",
    "\tdata = data.withColumn('_w', lit(1))\n",
    "\n",
    "data = data.withColumn('_intercept', lit(1))\n",
    "\n",
    "# xfmla = 'y ~ X + 1'\n",
    "if xfmla is None:\n",
    "\tx_var = ['_intercept']\n",
    "\tx_cov = data[x_var]\n",
    "\tn_cov = 1\n",
    "else:\n",
    "\tx_var = form_to_strings(fmla=xfmla)\n",
    "\tn_cov = len(x_var)\n",
    "\n",
    "columns += x_var\n",
    "\n",
    "data = data[columns].na.drop('all')\n",
    "ndiff = n_pre - data.count()\n",
    "\n",
    "if ndiff != 0: \n",
    "\tprint(f'Dropped, {ndiff}, rows from original data due to missing data')\n"
   ]
  },
  {
   "cell_type": "code",
   "execution_count": 7,
   "metadata": {},
   "outputs": [],
   "source": [
    "\n",
    "\n",
    "tlist, glist = tlist_glist(data, tname, gname, False)\n",
    "\n",
    "\n",
    "\n",
    "#   asif_nev_treated = data[gname] > np.max(tlist)\n",
    "#   asif_nev_treated.fillna(False, inplace=True)\n",
    "#   data.loc[asif_nev_treated, gname] = 0\n",
    "\n",
    "max_tlist = tlist.orderBy(desc(tname)).first()[tname]\n",
    "data = data.withColumn(\n",
    "    \"asif_nev_treated\",\n",
    "    when(\n",
    "        col(gname) > max_tlist, True\n",
    "    ).otherwise(False))\\\n",
    "    .fillna({'asif_nev_treated': False})\\\n",
    "    .withColumn(gname, when(col(\"asif_nev_treated\") == True, 0).otherwise(col(gname)))\n",
    "\n",
    "n_glist0 = glist.filter(glist[gname] == 0).count()\n",
    "if n_glist0 == 0:\n",
    "\tif control_group == 'nevertreated':\n",
    "\t\traise 'There is no avaible never-treated group'\n",
    "\telse:\n",
    "\t\tvalue_expr = expr(f'max({gname}) - {anticipation}')\n",
    "\t\tvalue = data.select(value_expr.alias('value')).first()['value']\n",
    "\t\tdata =  data.filter(data[tname] < value)\n",
    "\t\ttlist, glist = tlist_glist(data, tname, gname, True)"
   ]
  },
  {
   "cell_type": "code",
   "execution_count": 8,
   "metadata": {},
   "outputs": [],
   "source": [
    "glist = glist.filter(glist[gname] > 0)\n",
    "# first_period\n",
    "fp = tlist.first()[tname]\n",
    "glist = glist.filter(glist[gname] > fp + anticipation)\n"
   ]
  },
  {
   "cell_type": "code",
   "execution_count": 9,
   "metadata": {},
   "outputs": [],
   "source": [
    "data = data.\\\n",
    "\twithColumn(\n",
    "\t\t\"treated_fp\", (col(gname) <= fp) & ~(col(gname) == 0)\n",
    "\t).\\\n",
    "\tfillna({'treated_fp': False})\n",
    "nfirst_period = \\\n",
    "\tdata.filter(col('treated_fp') == True).count() if panel\\\n",
    "\telse\\\n",
    "\t\tdata.filter(col('treated_fp') == True).\\\n",
    "\t\t\tselect(idname).distinct().count()\n",
    "# 93 - 102\n",
    "if nfirst_period > 0:\n",
    "\twarning_message = f\"Dropped {nfirst_period} units that were already treated in the first period.\"\n",
    "\tprint(warning_message)\n",
    "\tglist_in = glist.collect()\n",
    "\tglist_in = [x[gname] for x in glist_in]\n",
    "\tglist_in = glist_in + [0]\n",
    "\tdata = data.filter(col(gname).isin(glist_in))\n",
    "\ttlist, glist = tlist_glist(data, tname=tname, gname=gname)\n",
    "\tglist = glist.filter(col(gname) > 0)\n",
    "\tfp = tlist.first()[tname]\n",
    "\tglist = glist.filter(col(gname) > fp + anticipation)\n"
   ]
  },
  {
   "cell_type": "code",
   "execution_count": 10,
   "metadata": {},
   "outputs": [],
   "source": [
    "true_rep_cross_section = False\n",
    "if not panel:\n",
    "\ttrue_rep_cross_section = True\n",
    "\n",
    "if panel: \n",
    "\tif allow_unbalanced_panel: \n",
    "\t\tpanel = False\n",
    "\t\ttrue_rep_cross_section = False\n",
    "\telse:\n",
    "\t\tkeep = data.na.drop('all')\n",
    "\t\tn_id = data.select(idname).distinct().count()\n",
    "\t\tn_keep = keep.select(idname).distinct().count()\n",
    "\t\tn_old_data = data.count()\n",
    "\t\t# data = makeBalancedPanel(data, idname=idname, tname=tname)\n",
    "\t\tn_new = data.count()\n",
    "\n",
    "\t\tif n_new == 0:\n",
    "\t\t\traise \"All observations dropped to convert data to balanced panel. Consider setting `panel=False` and/or revisit 'idname'.\"\n",
    "\t\tif n_new < n_old_data:\n",
    "\t\t\twarnings.warn(f\"Dropped {n_old_data-n_new} observations while converting to balanced panel.\")\n",
    "\n",
    "\t\ttn = tlist.first()[tname]\n",
    "\t\tn = data.filter(col(tname) == tn).count()\n",
    "\n",
    "# 119 - 121, repetitive code \n",
    "# if n_keep < data.count():\n",
    "# \tprint(f\"Dropped {n_id-n_keep} observations that had missing data.\")"
   ]
  },
  {
   "cell_type": "code",
   "execution_count": 11,
   "metadata": {},
   "outputs": [],
   "source": [
    "if not panel:\n",
    "    if true_rep_cross_section:\n",
    "        data = data.withColumn('rowid', monotonically_increasing_id())\n",
    "        idname = 'rowid'\n",
    "    else:\n",
    "        data = data.withColumn('rowid', col(idname))\n",
    "    n = data.select(idname).distinct().count()\n",
    "\n",
    "data = data.orderBy([idname, tname]).\\\n",
    "\twithColumn('_w1', col('_w'))\n",
    "\n",
    "if glist.count() == 0:\n",
    "\traise f\"No valid groups. The variable in '{gname}' should be expressed as the time a unit is first treated (0 if never-treated).\"\n",
    "if tlist.count() == 2:\n",
    "\tcband = False\n",
    "\n",
    "\t"
   ]
  },
  {
   "cell_type": "code",
   "execution_count": 12,
   "metadata": {},
   "outputs": [],
   "source": [
    "gsize = data.groupBy(col(gname)).count()\n",
    "tlist_len = tlist.count()\n",
    "\n",
    "gsize = gsize.withColumn('count', gsize['count'] / tlist_len)\n",
    "\n",
    "req_size = n_cov + 5\n",
    "\n",
    "gsize = gsize.filter(col('count') < req_size)\n",
    "if gsize.count() > 0:\n",
    "    gpaste_array = gsize.select(gname).collect()\n",
    "    gpaste = [x[gname] for x in gpaste_array]\n",
    "    gpaste = \",\".join(map(str, gpaste))\n",
    "    if len(gpaste) > 0:\n",
    "        print(f\"Be aware that there are some small groups in your dataset.\\n  Check groups: {gpaste}.\")\n",
    "    gval_ = gsize.select(gname).collect()\n",
    "    gval_ = [x[gname] for x in gval_]\n",
    "    if 0 in gval_ and control_group == 'nevertreated':\n",
    "        raise \"Never-treated group is too small, try setting control_group='notyettreated'.\""
   ]
  },
  {
   "cell_type": "code",
   "execution_count": 13,
   "metadata": {},
   "outputs": [],
   "source": [
    "nT, nG = tlist.count(), glist.count()"
   ]
  },
  {
   "cell_type": "code",
   "execution_count": 14,
   "metadata": {},
   "outputs": [
    {
     "data": {
      "text/plain": [
       "10"
      ]
     },
     "execution_count": 14,
     "metadata": {},
     "output_type": "execute_result"
    }
   ],
   "source": [
    "# from Attgt import Attgt\n",
    "nT"
   ]
  },
  {
   "cell_type": "code",
   "execution_count": 15,
   "metadata": {},
   "outputs": [],
   "source": [
    "spark.stop()"
   ]
  },
  {
   "cell_type": "code",
   "execution_count": null,
   "metadata": {},
   "outputs": [],
   "source": []
  }
 ],
 "metadata": {
  "kernelspec": {
   "display_name": "Python 3 (ipykernel)",
   "language": "python",
   "name": "python3"
  },
  "language_info": {
   "codemirror_mode": {
    "name": "ipython",
    "version": 3
   },
   "file_extension": ".py",
   "mimetype": "text/x-python",
   "name": "python",
   "nbconvert_exporter": "python",
   "pygments_lexer": "ipython3",
   "version": "3.8.10"
  }
 },
 "nbformat": 4,
 "nbformat_minor": 4
}
