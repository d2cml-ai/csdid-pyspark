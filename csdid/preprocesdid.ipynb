{
 "cells": [
  {
   "cell_type": "code",
   "execution_count": 95,
   "metadata": {},
   "outputs": [],
   "source": [
    "import findspark\n",
    "findspark.init()\n",
    "\n",
    "from pyspark.sql import  SparkSession\n",
    "from pyspark.sql.functions import lit, col, when"
   ]
  },
  {
   "cell_type": "code",
   "execution_count": 3,
   "metadata": {},
   "outputs": [],
   "source": [
    "spark = SparkSession.builder.appName('preprocesdid')\\\n",
    "    .config('spark.master', 'local[4]')\\\n",
    "    .config('spark.executor.memory', '1g')\\\n",
    "    .config(\"spark.sql.shuffle.partitions\", 1)\\\n",
    "    .config('spark.driver.memory','1g')\\\n",
    "    .getOrCreate()"
   ]
  },
  {
   "cell_type": "code",
   "execution_count": 13,
   "metadata": {},
   "outputs": [
    {
     "name": "stdout",
     "output_type": "stream",
     "text": [
      "+---+-----------------+---+-------+------+----------------+-----+\n",
      "|  G|                X| id|cluster|period|               Y|treat|\n",
      "+---+-----------------+---+-------+------+----------------+-----+\n",
      "|  2|0.214945979570717|  1|     37|     1|4.39776569093816|    1|\n",
      "|  2|0.214945979570717|  1|     37|     2|7.66172212986391|    1|\n",
      "|  2|0.214945979570717|  1|     37|     3|6.83282829318896|    1|\n",
      "|  2|0.214945979570717|  1|     37|     4|7.07668186230603|    1|\n",
      "|  2|0.214945979570717|  1|     37|     5|8.99244332186859|    1|\n",
      "+---+-----------------+---+-------+------+----------------+-----+\n",
      "only showing top 5 rows\n",
      "\n"
     ]
    }
   ],
   "source": [
    "import os\n",
    "name = r'D:\\Workflow\\work\\csdid_r\\R\\5g10t.csv'\n",
    "# os.path.exists(name)\n",
    "data = spark.read.csv(name, header=True)\n",
    "data.show(5)"
   ]
  },
  {
   "cell_type": "code",
   "execution_count": 67,
   "metadata": {},
   "outputs": [],
   "source": [
    "yname, gname, idname, tname = 'Y', 'G', 'id', 'period'\n",
    "control_group = ['nevertreated', 'notyettreated']\n",
    "anticipation = 0\n",
    "panel = True\n",
    "allow_unbalanced_panel = True,\n",
    "weights_name = None\n",
    "\n",
    "clustervar = None\n",
    "xfmla = None"
   ]
  },
  {
   "cell_type": "code",
   "execution_count": 72,
   "metadata": {},
   "outputs": [],
   "source": [
    "n_pre = data.count()\n",
    "columns = [idname, tname, yname, gname]\n",
    "\n",
    "if clustervar is not None:\n",
    "\tcolumns += [clustervar]\n",
    "if weights_name is not None:\n",
    "\tcolumns += [weights_name]\n",
    "\tdata = data.withColumn('_w', data[weights_name])\n",
    "else:\n",
    "\tcolumns += ['_w']\n",
    "\tdata = data.withColumn('_w', lit(1))\n",
    "\n",
    "def form_to_strings(fmla : str = 'y ~ x + 1'):\n",
    "\ty, x = fmla.split('~')\n",
    "\tx_var = x.strip().split('+')\n",
    "\tx_var = [x.strip() for x in x_var]\n",
    "\tx_var = ['_intercept' if x == '1' else x for x in x_var]\n",
    "\treturn x_var\n",
    "data = data.withColumn('_intercept', lit(1))\n",
    "\n",
    "# xfmla = 'y ~ X + 1'\n",
    "if xfmla is None:\n",
    "\tx_var = ['_intercept']\n",
    "\tx_cov = data[x_var]\n",
    "\tn_cov = 1\n",
    "else:\n",
    "\tx_var = form_to_strings(fmla=xfmla)\n",
    "\tn_cov = len(x_var)\n",
    "\n",
    "columns += x_var\n",
    "\n",
    "data = data[columns].na.drop('all')\n",
    "ndiff = n_pre - data.count()\n",
    "\n",
    "if ndiff != 0: \n",
    "\tprint(f'Dropped, {ndiff}, rows from original data due to missing data')\n"
   ]
  },
  {
   "cell_type": "code",
   "execution_count": 94,
   "metadata": {},
   "outputs": [],
   "source": [
    "tlist = data.orderBy(col(tname)).select(tname).distinct()\n",
    "glist = data.orderBy(col(gname)).select(gname).distinct()"
   ]
  }
 ],
 "metadata": {
  "kernelspec": {
   "display_name": "Python 3",
   "language": "python",
   "name": "python3"
  },
  "language_info": {
   "codemirror_mode": {
    "name": "ipython",
    "version": 3
   },
   "file_extension": ".py",
   "mimetype": "text/x-python",
   "name": "python",
   "nbconvert_exporter": "python",
   "pygments_lexer": "ipython3",
   "version": "3.8.10"
  },
  "orig_nbformat": 4
 },
 "nbformat": 4,
 "nbformat_minor": 2
}
