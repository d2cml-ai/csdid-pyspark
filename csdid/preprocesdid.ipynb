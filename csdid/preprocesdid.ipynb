{
 "cells": [
  {
   "cell_type": "code",
   "execution_count": 194,
   "metadata": {},
   "outputs": [],
   "source": [
    "import findspark\n",
    "findspark.init()\n",
    "\n",
    "from pyspark.sql import  SparkSession, Row\n",
    "from pyspark.sql.functions import \\\n",
    "\tlit, col, when, expr, countDistinct"
   ]
  },
  {
   "cell_type": "code",
   "execution_count": 223,
   "metadata": {},
   "outputs": [],
   "source": [
    "spark = SparkSession.builder.appName('preprocesdid')\\\n",
    "    .config('spark.master', 'local[4]')\\\n",
    "    .config('spark.executor.memory', '1g')\\\n",
    "    .config(\"spark.sql.shuffle.partitions\", 1)\\\n",
    "    .config('spark.driver.memory','1g')\\\n",
    "    .getOrCreate()\n",
    "# configuration \n",
    "# https://spark.apache.org/docs/latest/configuration.html"
   ]
  },
  {
   "cell_type": "code",
   "execution_count": 224,
   "metadata": {},
   "outputs": [
    {
     "name": "stdout",
     "output_type": "stream",
     "text": [
      "+---+-----------------+---+-------+------+----------------+-----+\n",
      "|  G|                X| id|cluster|period|               Y|treat|\n",
      "+---+-----------------+---+-------+------+----------------+-----+\n",
      "|  2|0.214945979570717|  1|     37|     1|4.39776569093816|    1|\n",
      "|  2|0.214945979570717|  1|     37|     2|7.66172212986391|    1|\n",
      "|  2|0.214945979570717|  1|     37|     3|6.83282829318896|    1|\n",
      "|  2|0.214945979570717|  1|     37|     4|7.07668186230603|    1|\n",
      "|  2|0.214945979570717|  1|     37|     5|8.99244332186859|    1|\n",
      "+---+-----------------+---+-------+------+----------------+-----+\n",
      "only showing top 5 rows\n",
      "\n"
     ]
    }
   ],
   "source": [
    "import os\n",
    "name = r'D:\\Workflow\\work\\csdid_r\\R\\5g10t.csv'\n",
    "# os.path.exists(name)\n",
    "data = spark.read.csv(name, header=True, inferSchema=True)\n",
    "data.show(5)"
   ]
  },
  {
   "cell_type": "code",
   "execution_count": 226,
   "metadata": {},
   "outputs": [],
   "source": [
    "yname, gname, idname, tname = 'Y', 'G', 'id', 'period'\n",
    "control_group = ['nevertreated', 'notyettreated']\n",
    "anticipation = 0\n",
    "panel = True\n",
    "allow_unbalanced_panel = True\n",
    "weights_name = None\n",
    "\n",
    "clustervar = None\n",
    "xfmla = None"
   ]
  },
  {
   "cell_type": "code",
   "execution_count": 163,
   "metadata": {},
   "outputs": [],
   "source": [
    "n_pre = data.count()\n",
    "columns = [idname, tname, yname, gname]\n",
    "\n",
    "if clustervar is not None:\n",
    "\tcolumns += [clustervar]\n",
    "if weights_name is not None:\n",
    "\tcolumns += [weights_name]\n",
    "\tdata = data.withColumn('_w', data[weights_name])\n",
    "else:\n",
    "\tcolumns += ['_w']\n",
    "\tdata = data.withColumn('_w', lit(1))\n",
    "\n",
    "def form_to_strings(fmla : str = 'y ~ x + 1'):\n",
    "\ty, x = fmla.split('~')\n",
    "\tx_var = x.strip().split('+')\n",
    "\tx_var = [x.strip() for x in x_var]\n",
    "\tx_var = ['_intercept' if x == '1' else x for x in x_var]\n",
    "\treturn x_var\n",
    "data = data.withColumn('_intercept', lit(1))\n",
    "\n",
    "# xfmla = 'y ~ X + 1'\n",
    "if xfmla is None:\n",
    "\tx_var = ['_intercept']\n",
    "\tx_cov = data[x_var]\n",
    "\tn_cov = 1\n",
    "else:\n",
    "\tx_var = form_to_strings(fmla=xfmla)\n",
    "\tn_cov = len(x_var)\n",
    "\n",
    "columns += x_var\n",
    "\n",
    "data = data[columns].na.drop('all')\n",
    "ndiff = n_pre - data.count()\n",
    "\n",
    "if ndiff != 0: \n",
    "\tprint(f'Dropped, {ndiff}, rows from original data due to missing data')\n"
   ]
  },
  {
   "cell_type": "code",
   "execution_count": 164,
   "metadata": {},
   "outputs": [],
   "source": [
    "def tlist_glist(data, tname, gname, _filter = False):\n",
    "\ttlist = data.select(tname).distinct().orderBy(col(tname))\n",
    "\tglist = data.select(gname).distinct().orderBy(col(gname))\n",
    "\tif _filter:\n",
    "\t\tvalue_expr = expr(f'max({gname})')\n",
    "\t\tvalue = data.select(value_expr.alias('value')).first()['value']\n",
    "\t\tglist = glist.filter(glist[gname] < value)\n",
    "\treturn tlist, glist\n",
    "\n",
    "tlist, glist = tlist_glist(data, tname, gname, False)\n",
    "\n",
    "\n",
    "\n",
    "#   asif_nev_treated = data[gname] > np.max(tlist)\n",
    "#   asif_nev_treated.fillna(False, inplace=True)\n",
    "#   data.loc[asif_nev_treated, gname] = 0\n",
    "\n",
    "# data = data.\\\n",
    "# \twithColumn(\n",
    "# \t\tgname, \n",
    "# \t\twhen(col(gname) > data.\\\n",
    "# \t\t\tselectExpr(\"max(tlist) as max_tlist\")\\\n",
    "# \t\t\t.first()[\"max_tlist\"], 0)\\\n",
    "# \t\t\t.otherwise(col(gname)\n",
    "# \t\t)\n",
    "# \t)\n",
    "\n",
    "n_glist0 = glist.filter(glist[gname] == 0).count()\n",
    "if n_glist0 == 0:\n",
    "\tif control_group == 'nevertreated':\n",
    "\t\traise 'There is no avaible never-treated group'\n",
    "\telse:\n",
    "\t\tvalue_expr = expr(f'max({gname}) - {anticipation}')\n",
    "\t\tvalue = data.select(value_expr.alias('value')).first()['value']\n",
    "\t\tdata =  data.filter(data[tname] < value)\n",
    "\t\ttlist, glist = tlist_glist(data, tname, gname, True)"
   ]
  },
  {
   "cell_type": "code",
   "execution_count": 166,
   "metadata": {},
   "outputs": [
    {
     "name": "stdout",
     "output_type": "stream",
     "text": [
      "+---+\n",
      "|  G|\n",
      "+---+\n",
      "|  0|\n",
      "|  2|\n",
      "|  3|\n",
      "|  4|\n",
      "|  5|\n",
      "|  6|\n",
      "+---+\n",
      "\n"
     ]
    }
   ],
   "source": [
    "glist.show()"
   ]
  },
  {
   "cell_type": "code",
   "execution_count": 168,
   "metadata": {},
   "outputs": [],
   "source": [
    "glist = glist.filter(glist[gname] > 0)\n",
    "# first_period\n",
    "fp = tlist.first()[tname]\n",
    "glist = glist.filter(glist[gname] > fp + anticipation)\n"
   ]
  },
  {
   "cell_type": "code",
   "execution_count": 220,
   "metadata": {},
   "outputs": [],
   "source": [
    "data = data.\\\n",
    "\twithColumn(\n",
    "\t\t\"treated_fp\", (col(gname) <= fp) & ~(col(gname) == 0)\n",
    "\t).\\\n",
    "\tfillna({'treated_fp': False})\n",
    "nfirst_period = \\\n",
    "\tdata.filter(col('treated_fp') == True).count() if panel\\\n",
    "\telse\\\n",
    "\t\tdata.filter(col('treated_fp') == True).\\\n",
    "\t\t\tselect(idname).distinct().count()\n",
    "# 93 - 102\n",
    "if nfirst_period > 0:\n",
    "\twarning_message = f\"Dropped {nfirst_period} units that were already treated in the first period.\"\n",
    "\tprint(warning_message)\n",
    "\tglist_in = glist.collect()\n",
    "\tglist_in = [x[gname] for x in glist_in]\n",
    "\tglist_in = glist_in + [0]\n",
    "\tdata = data.filter(col(gname).isin(glist_in))\n",
    "\ttlist, glist = tlist_glist(data, tname=tname, gname=gname)\n",
    "\tglist = glist.filter(col(gname) > 0)\n",
    "\tfp = tlist.first()[tname]\n",
    "\tglist = glist.filter(col(gname) > fp + anticipation)\n",
    "\n"
   ]
  },
  {
   "cell_type": "code",
   "execution_count": 236,
   "metadata": {},
   "outputs": [
    {
     "name": "stdout",
     "output_type": "stream",
     "text": [
      "Dropped 0 observations that had missing data.\n"
     ]
    }
   ],
   "source": [
    "true_rep_cross_section = False\n",
    "if not panel:\n",
    "\ttrue_rep_cross_section = True\n",
    "\n",
    "# if panel: \n",
    "# \tif allow_unbalanced_panel: \n",
    "# \t\ttrue_rep_cross_section = False\n",
    "keep = data.na.drop('all')\n",
    "n_id = data.select(idname).distinct().count()\n",
    "n_keep = keep.select(idname).distinct().count()\n",
    "n_old_data = data.count()\n",
    "data = makeBalancedPanel(data, idname=idname, tname=tname)\n",
    "\n",
    "# 119 - 121, repetitive code \n",
    "# if n_keep < data.count():\n",
    "# \tprint(f\"Dropped {n_id-n_keep} observations that had missing data.\")"
   ]
  },
  {
   "cell_type": "code",
   "execution_count": 235,
   "metadata": {},
   "outputs": [
    {
     "data": {
      "text/plain": [
       "True"
      ]
     },
     "execution_count": 235,
     "metadata": {},
     "output_type": "execute_result"
    }
   ],
   "source": [
    "panel"
   ]
  }
 ],
 "metadata": {
  "kernelspec": {
   "display_name": "Python 3",
   "language": "python",
   "name": "python3"
  },
  "language_info": {
   "codemirror_mode": {
    "name": "ipython",
    "version": 3
   },
   "file_extension": ".py",
   "mimetype": "text/x-python",
   "name": "python",
   "nbconvert_exporter": "python",
   "pygments_lexer": "ipython3",
   "version": "3.8.10"
  },
  "orig_nbformat": 4
 },
 "nbformat": 4,
 "nbformat_minor": 2
}
