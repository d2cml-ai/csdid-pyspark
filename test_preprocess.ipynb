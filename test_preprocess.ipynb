{
 "cells": [
  {
   "cell_type": "code",
   "execution_count": 1,
   "metadata": {},
   "outputs": [],
   "source": [
    "from csdid.ATTgt import ATTgt"
   ]
  },
  {
   "cell_type": "code",
   "execution_count": 2,
   "metadata": {},
   "outputs": [],
   "source": [
    "import findspark\n",
    "import warnings\n",
    "findspark.init()\n",
    "import numpy as np\n",
    "\n",
    "from pyspark.sql import  SparkSession, Row\n",
    "from pyspark.sql.functions import \\\n",
    "\tlit, col, when, expr, countDistinct,\\\n",
    "\tmonotonically_increasing_id, desc\n",
    "spark = SparkSession.builder.appName('test_preprocesdid')\\\n",
    "    .config('spark.master', 'local[4]')\\\n",
    "    .config('spark.executor.memory', '2g')\\\n",
    "    .config(\"spark.sql.shuffle.partitions\", 10)\\\n",
    "    .config('spark.driver.memory','1g')\\\n",
    "    .getOrCreate()"
   ]
  },
  {
   "cell_type": "code",
   "execution_count": 3,
   "metadata": {},
   "outputs": [
    {
     "name": "stderr",
     "output_type": "stream",
     "text": [
      "100%|██████████| 9/9 [00:29<00:00,  3.33s/it]\n",
      "100%|██████████| 9/9 [00:29<00:00,  3.30s/it]\n",
      "100%|██████████| 9/9 [00:29<00:00,  3.25s/it]\n",
      "100%|██████████| 9/9 [00:29<00:00,  3.24s/it]\n",
      "100%|██████████| 9/9 [00:29<00:00,  3.23s/it]\n",
      "100%|██████████| 5/5 [02:27<00:00, 29.44s/it]"
     ]
    },
    {
     "name": "stdout",
     "output_type": "stream",
     "text": [
      "CPU times: total: 1min 5s\n",
      "Wall time: 2min 37s\n"
     ]
    },
    {
     "name": "stderr",
     "output_type": "stream",
     "text": [
      "\n"
     ]
    }
   ],
   "source": [
    "%%time\n",
    "import os\n",
    "name = r'D:\\Workflow\\work\\csdid_r\\R\\5g10t.csv'\n",
    "# os.path.exists(name)\n",
    "\n",
    "yname, gname, idname, tname = 'Y', 'G', 'id', 'period'\n",
    "control_group = ['nevertreated', 'notyettreated']\n",
    "anticipation = 0\n",
    "panel = True\n",
    "allow_unbalanced_panel = True\n",
    "weights_name = None\n",
    "\n",
    "clustervar = None\n",
    "xfmla = None\n",
    "\n",
    "data = spark.read.csv(name, header=True, inferSchema=True)\n",
    "# data.show(5)\n",
    "a = ATTgt(data=data, tname=tname, gname=gname, yname=yname, idname=idname)\n",
    "a.fit()"
   ]
  },
  {
   "cell_type": "code",
   "execution_count": 5,
   "metadata": {},
   "outputs": [
    {
     "data": {
      "text/plain": [
       "[1,\n",
       " 1,\n",
       " 1,\n",
       " 1,\n",
       " 1,\n",
       " 1,\n",
       " 1,\n",
       " 1,\n",
       " 1,\n",
       " 0,\n",
       " 1,\n",
       " 1,\n",
       " 1,\n",
       " 1,\n",
       " 1,\n",
       " 1,\n",
       " 1,\n",
       " 1,\n",
       " 0,\n",
       " 0,\n",
       " 1,\n",
       " 1,\n",
       " 1,\n",
       " 1,\n",
       " 1,\n",
       " 1,\n",
       " 1,\n",
       " 0,\n",
       " 0,\n",
       " 0,\n",
       " 1,\n",
       " 1,\n",
       " 1,\n",
       " 1,\n",
       " 1,\n",
       " 1,\n",
       " 0,\n",
       " 0,\n",
       " 0,\n",
       " 0,\n",
       " 1,\n",
       " 1,\n",
       " 1,\n",
       " 1,\n",
       " 1]"
      ]
     },
     "execution_count": 5,
     "metadata": {},
     "output_type": "execute_result"
    }
   ],
   "source": [
    "a.post"
   ]
  },
  {
   "cell_type": "code",
   "execution_count": 10,
   "metadata": {},
   "outputs": [],
   "source": [
    "from csdid.utils import  *"
   ]
  },
  {
   "cell_type": "code",
   "execution_count": 22,
   "metadata": {},
   "outputs": [
    {
     "name": "stdout",
     "output_type": "stream",
     "text": [
      "6.51 s ± 31 ms per loop (mean ± std. dev. of 7 runs, 1 loop each)\n"
     ]
    }
   ],
   "source": [
    "%%timeit\n",
    "covariates = x_covariates(data_1, cls_)\n",
    "covariates = np.zeros((12, 7))\n"
   ]
  },
  {
   "cell_type": "code",
   "execution_count": 26,
   "metadata": {},
   "outputs": [
    {
     "ename": "ValueError",
     "evalue": "too many values to unpack (expected 6)",
     "output_type": "error",
     "traceback": [
      "\u001b[1;31m---------------------------------------------------------------------------\u001b[0m",
      "\u001b[1;31mValueError\u001b[0m                                Traceback (most recent call last)",
      "Cell \u001b[1;32mIn[26], line 1\u001b[0m\n\u001b[1;32m----> 1\u001b[0m _1, _2, _3, _4, _5, _6 \u001b[39m=\u001b[39m covariates[:, :\u001b[39m6\u001b[39m]\n",
      "\u001b[1;31mValueError\u001b[0m: too many values to unpack (expected 6)"
     ]
    }
   ],
   "source": [
    "_1, _2, _3, _4, _5, _6 = covariates[:, :6]"
   ]
  },
  {
   "cell_type": "code",
   "execution_count": 33,
   "metadata": {},
   "outputs": [
    {
     "data": {
      "text/plain": [
       "array([1.e+00, 1.e+00, 1.e+00, ..., 1.e+05, 1.e+05, 1.e+05])"
      ]
     },
     "execution_count": 33,
     "metadata": {},
     "output_type": "execute_result"
    }
   ],
   "source": [
    "s1, s2 = covariates[:, :2].T\n",
    "s1"
   ]
  },
  {
   "cell_type": "code",
   "execution_count": 45,
   "metadata": {},
   "outputs": [
    {
     "data": {
      "text/plain": [
       "0"
      ]
     },
     "execution_count": 45,
     "metadata": {},
     "output_type": "execute_result"
    }
   ],
   "source": [
    "sum(_2 == s2) - covariates.shape[0]"
   ]
  },
  {
   "cell_type": "code",
   "execution_count": 23,
   "metadata": {},
   "outputs": [
    {
     "name": "stdout",
     "output_type": "stream",
     "text": [
      "13.8 s ± 87 ms per loop (mean ± std. dev. of 7 runs, 1 loop each)\n"
     ]
    }
   ],
   "source": [
    "%%timeit\n",
    "__1 = data_1.select('id').rdd.flatMap(lambda x: x).collect()\n",
    "__2 = data_1.select('period').rdd.flatMap(lambda x: x).collect()\n",
    "__3 = data_1.select('Y').rdd.flatMap(lambda x: x).collect()\n",
    "__4 = data_1.select('G').rdd.flatMap(lambda x: x).collect()\n",
    "__5 = data_1.select('_w').rdd.flatMap(lambda x: x).collect()\n",
    "__6 = data_1.select('_intercept').rdd.flatMap(lambda x: x).collect()"
   ]
  },
  {
   "cell_type": "code",
   "execution_count": 12,
   "metadata": {},
   "outputs": [
    {
     "data": {
      "text/plain": [
       "[[1], [1], [1], [1], [1], [1], [1], [1], [1], [1], [2], [2]]"
      ]
     },
     "execution_count": 12,
     "metadata": {},
     "output_type": "execute_result"
    }
   ],
   "source": [
    "colmu = ['id']\n",
    "columnas_row = a.new_data.limit(12).select(colmu).collect()\n",
    "matriz_python = [\n",
    "\t[getattr(row, col) for col in colmu] \n",
    "\tfor row in columnas_row\n",
    "\t]\n",
    "matriz_python"
   ]
  },
  {
   "cell_type": "code",
   "execution_count": 34,
   "metadata": {},
   "outputs": [
    {
     "name": "stdout",
     "output_type": "stream",
     "text": [
      "+---+------+----------------+---+---+----------+----------------+----------+-----+---+\n",
      "| id|period|               Y|  G| _w|_intercept|asif_nev_treated|treated_fp|rowid|_w1|\n",
      "+---+------+----------------+---+---+----------+----------------+----------+-----+---+\n",
      "|  1|     1|4.39776569093816|  2|  1|         1|           false|     false|    1|  1|\n",
      "|  1|     2|7.66172212986391|  2|  1|         1|           false|     false|    1|  1|\n",
      "|  1|     3|6.83282829318896|  2|  1|         1|           false|     false|    1|  1|\n",
      "|  1|     4|7.07668186230603|  2|  1|         1|           false|     false|    1|  1|\n",
      "|  1|     5|8.99244332186859|  2|  1|         1|           false|     false|    1|  1|\n",
      "|  1|     6|9.60663311747899|  2|  1|         1|           false|     false|    1|  1|\n",
      "|  1|     7|12.6160066181927|  2|  1|         1|           false|     false|    1|  1|\n",
      "|  1|     8| 13.392123873644|  2|  1|         1|           false|     false|    1|  1|\n",
      "|  1|     9|14.2894052539596|  2|  1|         1|           false|     false|    1|  1|\n",
      "|  1|    10|15.4951678431367|  2|  1|         1|           false|     false|    1|  1|\n",
      "|  2|     1|6.76515363415279|  5|  1|         1|           false|     false|    2|  1|\n",
      "|  2|     2|9.73547620273607|  5|  1|         1|           false|     false|    2|  1|\n",
      "+---+------+----------------+---+---+----------+----------------+----------+-----+---+\n",
      "\n"
     ]
    }
   ],
   "source": [
    "a.new_data.limit(12).show()"
   ]
  }
 ],
 "metadata": {
  "kernelspec": {
   "display_name": "csdid_r-1-mgsrfE",
   "language": "python",
   "name": "python3"
  },
  "language_info": {
   "codemirror_mode": {
    "name": "ipython",
    "version": 3
   },
   "file_extension": ".py",
   "mimetype": "text/x-python",
   "name": "python",
   "nbconvert_exporter": "python",
   "pygments_lexer": "ipython3",
   "version": "3.8.10"
  },
  "orig_nbformat": 4
 },
 "nbformat": 4,
 "nbformat_minor": 2
}
