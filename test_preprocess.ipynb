{
 "cells": [
  {
   "cell_type": "code",
   "execution_count": 1,
   "metadata": {},
   "outputs": [],
   "source": [
    "from csdid.ATTgt import ATTgt"
   ]
  },
  {
   "cell_type": "code",
   "execution_count": 2,
   "metadata": {},
   "outputs": [],
   "source": [
    "import findspark\n",
    "import warnings\n",
    "findspark.init()\n",
    "import numpy as np\n",
    "\n",
    "from pyspark.sql import  SparkSession, Row\n",
    "from pyspark.sql.functions import \\\n",
    "\tlit, col, when, expr, countDistinct,\\\n",
    "\tmonotonically_increasing_id, desc\n",
    "spark = SparkSession.builder.appName('test_preprocesdid')\\\n",
    "    .config('spark.master', 'local[4]')\\\n",
    "    .config('spark.executor.memory', '2g')\\\n",
    "    .config(\"spark.sql.shuffle.partitions\", 10)\\\n",
    "    .config('spark.driver.memory','1g')\\\n",
    "    .getOrCreate()"
   ]
  },
  {
   "cell_type": "code",
   "execution_count": 3,
   "metadata": {},
   "outputs": [
    {
     "name": "stderr",
     "output_type": "stream",
     "text": [
      "  0%|          | 0/3 [00:00<?, ?it/s]"
     ]
    }
   ],
   "source": [
    "%%time\n",
    "import os\n",
    "\n",
    "# name = 'https://raw.githubusercontent.com/d2cml-ai/csdid/function-aggte/data/mpdta.csv'\n",
    "name = r'D:\\Workflow\\work\\csdid_r\\R\\5g10t.csv'\n",
    "name = r'D:\\Workflow\\work\\csdid_r\\R\\data\\mpdta.csv'\n",
    "# os.path.exists(name)\n",
    "\n",
    "yname, gname, idname, tname = 'Y', 'G', 'id', 'period'\n",
    "yname, gname, idname, tname = 'lemp', 'first_treat', 'countyreal', 'year'\n",
    "# yname, gname, idname, tname = 'lemp', 'first.treat', 'countyreal', 'year'\n",
    "control_group = ['nevertreated', 'notyettreated']\n",
    "anticipation = 0\n",
    "panel = True\n",
    "allow_unbalanced_panel = True\n",
    "weights_name = None\n",
    "\n",
    "clustervar = None\n",
    "xfmla = None\n",
    "\n",
    "data = spark.read.csv(name, header=True, inferSchema=True)\n",
    "# data.show(5)\n",
    "a = ATTgt(data=data, tname=tname, gname=gname, yname=yname, idname=idname)\n",
    "a.fit(bstrap=True)"
   ]
  },
  {
   "cell_type": "code",
   "execution_count": null,
   "metadata": {},
   "outputs": [],
   "source": [
    "# a.sum_gt().summary2_gt"
   ]
  },
  {
   "cell_type": "code",
   "execution_count": null,
   "metadata": {},
   "outputs": [
    {
     "ename": "ValueError",
     "evalue": "operands could not be broadcast together with shapes (2,) (0,) ",
     "output_type": "error",
     "traceback": [
      "\u001b[1;31m---------------------------------------------------------------------------\u001b[0m",
      "\u001b[1;31mValueError\u001b[0m                                Traceback (most recent call last)",
      "Cell \u001b[1;32mIn[5], line 3\u001b[0m\n\u001b[0;32m      1\u001b[0m \u001b[39m# a.compute_aggte(na_rm=False, typec='simple')\u001b[39;00m\n\u001b[0;32m      2\u001b[0m \u001b[39m# a.compute_aggte(na_rm=False, typec='group')\u001b[39;00m\n\u001b[1;32m----> 3\u001b[0m a\u001b[39m.\u001b[39;49mcompute_aggte(na_rm\u001b[39m=\u001b[39;49m\u001b[39mFalse\u001b[39;49;00m, typec\u001b[39m=\u001b[39;49m\u001b[39m'\u001b[39;49m\u001b[39mdynamic\u001b[39;49m\u001b[39m'\u001b[39;49m)\n",
      "File \u001b[1;32md:\\Workflow\\work\\csdid_r\\csdid\\ATTgt.py:855\u001b[0m, in \u001b[0;36mATTgt.compute_aggte\u001b[1;34m(self, typec, balance_e, min_e, max_e, na_rm, bstrap, biters, cband, alp, clustervars, print_)\u001b[0m\n\u001b[0;32m    852\u001b[0m             \u001b[39mif\u001b[39;00m dynamic_se \u001b[39m<\u001b[39m\u001b[39m=\u001b[39m np\u001b[39m.\u001b[39msqrt(np\u001b[39m.\u001b[39mfinfo(\u001b[39mfloat\u001b[39m)\u001b[39m.\u001b[39meps) \u001b[39m*\u001b[39m \u001b[39m10\u001b[39m:\n\u001b[0;32m    853\u001b[0m                 dynamic_se \u001b[39m=\u001b[39m np\u001b[39m.\u001b[39mnan\n\u001b[1;32m--> 855\u001b[0m     dynamic_aggte \u001b[39m=\u001b[39m AGGTEobj(overall_att\u001b[39m=\u001b[39;49mdynamic_att,\n\u001b[0;32m    856\u001b[0m                             overall_se\u001b[39m=\u001b[39;49mdynamic_se,\n\u001b[0;32m    857\u001b[0m                             typec\u001b[39m=\u001b[39;49mtypec,\n\u001b[0;32m    858\u001b[0m                             egt\u001b[39m=\u001b[39;49meseq,\n\u001b[0;32m    859\u001b[0m                             att_egt\u001b[39m=\u001b[39;49mdynamic_att_e,\n\u001b[0;32m    860\u001b[0m                             se_egt\u001b[39m=\u001b[39;49mdynamic_se_e,\n\u001b[0;32m    861\u001b[0m                             crit_val_egt\u001b[39m=\u001b[39;49mdynamic_crit_val,\n\u001b[0;32m    862\u001b[0m                             inf_function\u001b[39m=\u001b[39;49m{\u001b[39m'\u001b[39;49m\u001b[39mdynamic_inf_func_e\u001b[39;49m\u001b[39m'\u001b[39;49m: dynamic_inf_func_e,\n\u001b[0;32m    863\u001b[0m                                           \u001b[39m'\u001b[39;49m\u001b[39mdynamic_inf_func\u001b[39;49m\u001b[39m'\u001b[39;49m: dynamic_inf_func},\n\u001b[0;32m    864\u001b[0m                             min_e\u001b[39m=\u001b[39;49mmin_e,\n\u001b[0;32m    865\u001b[0m                             max_e\u001b[39m=\u001b[39;49mmax_e,\n\u001b[0;32m    866\u001b[0m                             balance_e\u001b[39m=\u001b[39;49mbalance_e,\n\u001b[0;32m    867\u001b[0m                             DIDparams\u001b[39m=\u001b[39;49mdp,\n\u001b[0;32m    868\u001b[0m                             print_ \u001b[39m=\u001b[39;49m print_\n\u001b[0;32m    869\u001b[0m                             )\n\u001b[0;32m    871\u001b[0m     summary_aggte[\u001b[39m'\u001b[39m\u001b[39mdynamic\u001b[39m\u001b[39m'\u001b[39m] \u001b[39m=\u001b[39m dynamic_aggte\n\u001b[0;32m    875\u001b[0m \u001b[39mself\u001b[39m\u001b[39m.\u001b[39msummary_aggte \u001b[39m=\u001b[39m summary_aggte\n",
      "File \u001b[1;32md:\\Workflow\\work\\csdid_r\\csdid\\utils_aggte.py:101\u001b[0m, in \u001b[0;36mAGGTEobj\u001b[1;34m(overall_att, overall_se, typec, egt, att_egt, se_egt, crit_val_egt, inf_function, min_e, max_e, balance_e, DIDparams, print_)\u001b[0m\n\u001b[0;32m     99\u001b[0m alp \u001b[39m=\u001b[39m out[\u001b[39m\"\u001b[39m\u001b[39mDIDparams\u001b[39m\u001b[39m\"\u001b[39m][\u001b[39m\"\u001b[39m\u001b[39malp\u001b[39m\u001b[39m\"\u001b[39m]\n\u001b[0;32m    100\u001b[0m pointwise_cval \u001b[39m=\u001b[39m stats\u001b[39m.\u001b[39mnorm\u001b[39m.\u001b[39mppf(\u001b[39m1\u001b[39m \u001b[39m-\u001b[39m alp \u001b[39m/\u001b[39m \u001b[39m2\u001b[39m)\n\u001b[1;32m--> 101\u001b[0m overall_cband_upper \u001b[39m=\u001b[39m out[\u001b[39m\"\u001b[39;49m\u001b[39moverall_att\u001b[39;49m\u001b[39m\"\u001b[39;49m] \u001b[39m+\u001b[39;49m pointwise_cval \u001b[39m*\u001b[39;49m out[\u001b[39m\"\u001b[39;49m\u001b[39moverall_se\u001b[39;49m\u001b[39m\"\u001b[39;49m]\n\u001b[0;32m    102\u001b[0m overall_cband_lower \u001b[39m=\u001b[39m out[\u001b[39m\"\u001b[39m\u001b[39moverall_att\u001b[39m\u001b[39m\"\u001b[39m] \u001b[39m-\u001b[39m pointwise_cval \u001b[39m*\u001b[39m out[\u001b[39m\"\u001b[39m\u001b[39moverall_se\u001b[39m\u001b[39m\"\u001b[39m]\n\u001b[0;32m    103\u001b[0m out1 \u001b[39m=\u001b[39m np\u001b[39m.\u001b[39mcolumn_stack((out[\u001b[39m\"\u001b[39m\u001b[39moverall_att\u001b[39m\u001b[39m\"\u001b[39m], out[\u001b[39m\"\u001b[39m\u001b[39moverall_se\u001b[39m\u001b[39m\"\u001b[39m], overall_cband_lower, overall_cband_upper))\n",
      "\u001b[1;31mValueError\u001b[0m: operands could not be broadcast together with shapes (2,) (0,) "
     ]
    }
   ],
   "source": [
    "# a.compute_aggte(na_rm=False, typec='simple')\n",
    "# a.compute_aggte(na_rm=False, typec='group')\n",
    "a.compute_aggte(na_rm=False, typec='dynamic')"
   ]
  },
  {
   "cell_type": "code",
   "execution_count": null,
   "metadata": {},
   "outputs": [
    {
     "ename": "KeyError",
     "evalue": "'dynamic'",
     "output_type": "error",
     "traceback": [
      "\u001b[1;31m---------------------------------------------------------------------------\u001b[0m",
      "\u001b[1;31mKeyError\u001b[0m                                  Traceback (most recent call last)",
      "Cell \u001b[1;32mIn[9], line 2\u001b[0m\n\u001b[0;32m      1\u001b[0m a\u001b[39m.\u001b[39msummary_aggte[\u001b[39m'\u001b[39m\u001b[39mgroup\u001b[39m\u001b[39m'\u001b[39m][\u001b[39m'\u001b[39m\u001b[39mtable\u001b[39m\u001b[39m'\u001b[39m]\n\u001b[1;32m----> 2\u001b[0m a\u001b[39m.\u001b[39;49msummary_aggte[\u001b[39m'\u001b[39;49m\u001b[39mdynamic\u001b[39;49m\u001b[39m'\u001b[39;49m][\u001b[39m'\u001b[39m\u001b[39mtable\u001b[39m\u001b[39m'\u001b[39m]\n",
      "\u001b[1;31mKeyError\u001b[0m: 'dynamic'"
     ]
    }
   ],
   "source": [
    "a.summary_aggte['group']['table']\n",
    "a.summary_aggte['dynamic']['table']"
   ]
  }
 ],
 "metadata": {
  "kernelspec": {
   "display_name": "csdid_r-1-mgsrfE",
   "language": "python",
   "name": "python3"
  },
  "language_info": {
   "codemirror_mode": {
    "name": "ipython",
    "version": 3
   },
   "file_extension": ".py",
   "mimetype": "text/x-python",
   "name": "python",
   "nbconvert_exporter": "python",
   "pygments_lexer": "ipython3",
   "version": "3.8.10"
  },
  "orig_nbformat": 4
 },
 "nbformat": 4,
 "nbformat_minor": 2
}
