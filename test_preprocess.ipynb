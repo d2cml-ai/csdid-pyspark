{
 "cells": [
  {
   "cell_type": "code",
   "execution_count": 1,
   "metadata": {},
   "outputs": [],
   "source": [
    "from csdid.ATTgt import ATTgt"
   ]
  },
  {
   "cell_type": "code",
   "execution_count": 2,
   "metadata": {},
   "outputs": [],
   "source": [
    "import findspark\n",
    "import warnings\n",
    "findspark.init()\n",
    "\n",
    "from pyspark.sql import  SparkSession, Row\n",
    "from pyspark.sql.functions import \\\n",
    "\tlit, col, when, expr, countDistinct,\\\n",
    "\tmonotonically_increasing_id, desc\n",
    "spark = SparkSession.builder.appName('test_preprocesdid')\\\n",
    "    .config('spark.master', 'local[4]')\\\n",
    "    .config('spark.executor.memory', '1g')\\\n",
    "    .config(\"spark.sql.shuffle.partitions\", 1)\\\n",
    "    .config('spark.driver.memory','1g')\\\n",
    "    .getOrCreate()"
   ]
  },
  {
   "cell_type": "code",
   "execution_count": 3,
   "metadata": {},
   "outputs": [
    {
     "name": "stdout",
     "output_type": "stream",
     "text": [
      "+---+-----------------+---+-------+------+----------------+-----+\n",
      "|  G|                X| id|cluster|period|               Y|treat|\n",
      "+---+-----------------+---+-------+------+----------------+-----+\n",
      "|  2|0.214945979570717|  1|     37|     1|4.39776569093816|    1|\n",
      "|  2|0.214945979570717|  1|     37|     2|7.66172212986391|    1|\n",
      "|  2|0.214945979570717|  1|     37|     3|6.83282829318896|    1|\n",
      "|  2|0.214945979570717|  1|     37|     4|7.07668186230603|    1|\n",
      "|  2|0.214945979570717|  1|     37|     5|8.99244332186859|    1|\n",
      "+---+-----------------+---+-------+------+----------------+-----+\n",
      "only showing top 5 rows\n",
      "\n"
     ]
    }
   ],
   "source": [
    "import os\n",
    "name = r'D:\\Workflow\\work\\csdid_r\\R\\5g10t.csv'\n",
    "# os.path.exists(name)\n",
    "data = spark.read.csv(name, header=True, inferSchema=True)\n",
    "data.show(5)"
   ]
  },
  {
   "cell_type": "code",
   "execution_count": 4,
   "metadata": {},
   "outputs": [],
   "source": [
    "yname, gname, idname, tname = 'Y', 'G', 'id', 'period'\n",
    "control_group = ['nevertreated', 'notyettreated']\n",
    "anticipation = 0\n",
    "panel = True\n",
    "allow_unbalanced_panel = True\n",
    "weights_name = None\n",
    "\n",
    "clustervar = None\n",
    "xfmla = None"
   ]
  },
  {
   "cell_type": "code",
   "execution_count": 5,
   "metadata": {},
   "outputs": [],
   "source": [
    "a = ATTgt(data=data, tname=tname, gname=gname, yname=yname, idname=idname)\n",
    "a._preprocess_did()"
   ]
  }
 ],
 "metadata": {
  "kernelspec": {
   "display_name": "csdid_r-1-mgsrfE",
   "language": "python",
   "name": "python3"
  },
  "language_info": {
   "codemirror_mode": {
    "name": "ipython",
    "version": 3
   },
   "file_extension": ".py",
   "mimetype": "text/x-python",
   "name": "python",
   "nbconvert_exporter": "python",
   "pygments_lexer": "ipython3",
   "version": "3.8.10"
  },
  "orig_nbformat": 4
 },
 "nbformat": 4,
 "nbformat_minor": 2
}
