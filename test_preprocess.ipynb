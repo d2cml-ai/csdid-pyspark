{
 "cells": [
  {
   "cell_type": "code",
   "execution_count": 1,
   "metadata": {},
   "outputs": [],
   "source": [
    "from csdid.ATTgt import ATTgt"
   ]
  },
  {
   "cell_type": "code",
   "execution_count": 2,
   "metadata": {},
   "outputs": [],
   "source": [
    "import findspark\n",
    "import warnings\n",
    "findspark.init()\n",
    "import numpy as np\n",
    "\n",
    "from pyspark.sql import  SparkSession, Row\n",
    "from pyspark.sql.functions import \\\n",
    "\tlit, col, when, expr, countDistinct,\\\n",
    "\tmonotonically_increasing_id, desc\n",
    "spark = SparkSession.builder.appName('test_preprocesdid')\\\n",
    "    .config('spark.master', 'local[4]')\\\n",
    "    .config('spark.executor.memory', '2g')\\\n",
    "    .config(\"spark.sql.shuffle.partitions\", 10)\\\n",
    "    .config('spark.driver.memory','1g')\\\n",
    "    .getOrCreate()"
   ]
  },
  {
   "cell_type": "code",
   "execution_count": 3,
   "metadata": {},
   "outputs": [
    {
     "ename": "UnboundLocalError",
     "evalue": "local variable 'tlist' referenced before assignment",
     "output_type": "error",
     "traceback": [
      "\u001b[1;31m---------------------------------------------------------------------------\u001b[0m",
      "\u001b[1;31mUnboundLocalError\u001b[0m                         Traceback (most recent call last)",
      "File \u001b[1;32m<timed exec>:23\u001b[0m\n",
      "File \u001b[1;32md:\\Workflow\\work\\csdid_r\\csdid\\ATTgt.py:239\u001b[0m, in \u001b[0;36mATTgt.fit\u001b[1;34m(self, est_method, base_period, bstrap)\u001b[0m\n\u001b[0;32m    234\u001b[0m nT \u001b[39m=\u001b[39m \u001b[39mself\u001b[39m\u001b[39m.\u001b[39mnT\n\u001b[0;32m    235\u001b[0m nG \u001b[39m=\u001b[39m \u001b[39mself\u001b[39m\u001b[39m.\u001b[39mnG\n\u001b[1;32m--> 239\u001b[0m tlist \u001b[39m=\u001b[39m [x[tname] \u001b[39mfor\u001b[39;00m x \u001b[39min\u001b[39;00m tlist]\n\u001b[0;32m    240\u001b[0m glist \u001b[39m=\u001b[39m [x[gname] \u001b[39mfor\u001b[39;00m x \u001b[39min\u001b[39;00m glist]\n\u001b[0;32m    241\u001b[0m tlist, glist \u001b[39m=\u001b[39m \u001b[39mmap\u001b[39m(np\u001b[39m.\u001b[39marray, [tlist, glist])\n",
      "\u001b[1;31mUnboundLocalError\u001b[0m: local variable 'tlist' referenced before assignment"
     ]
    }
   ],
   "source": [
    "%%time\n",
    "import os\n",
    "\n",
    "# name = 'https://raw.githubusercontent.com/d2cml-ai/csdid/function-aggte/data/mpdta.csv'\n",
    "name = r'D:\\Workflow\\work\\csdid_r\\R\\5g10t.csv'\n",
    "name = r'D:\\Workflow\\work\\csdid_r\\R\\data\\mpdta.csv'\n",
    "# os.path.exists(name)\n",
    "\n",
    "yname, gname, idname, tname = 'Y', 'G', 'id', 'period'\n",
    "yname, gname, idname, tname = 'lemp', 'first_treat', 'countyreal', 'year'\n",
    "# yname, gname, idname, tname = 'lemp', 'first.treat', 'countyreal', 'year'\n",
    "control_group = ['nevertreated', 'notyettreated']\n",
    "anticipation = 0\n",
    "panel = True\n",
    "allow_unbalanced_panel = True\n",
    "weights_name = None\n",
    "\n",
    "clustervar = None\n",
    "xfmla = None\n",
    "\n",
    "data = spark.read.csv(name, header=True, inferSchema=True)\n",
    "# data.show(5)\n",
    "a = ATTgt(data=data, tname=tname, gname=gname, yname=yname, idname=idname)\n",
    "a.fit()"
   ]
  },
  {
   "cell_type": "code",
   "execution_count": null,
   "metadata": {},
   "outputs": [],
   "source": [
    "a.sum_gt()"
   ]
  }
 ],
 "metadata": {
  "kernelspec": {
   "display_name": "csdid_r-1-mgsrfE",
   "language": "python",
   "name": "python3"
  },
  "language_info": {
   "codemirror_mode": {
    "name": "ipython",
    "version": 3
   },
   "file_extension": ".py",
   "mimetype": "text/x-python",
   "name": "python",
   "nbconvert_exporter": "python",
   "pygments_lexer": "ipython3",
   "version": "3.8.10"
  },
  "orig_nbformat": 4
 },
 "nbformat": 4,
 "nbformat_minor": 2
}
